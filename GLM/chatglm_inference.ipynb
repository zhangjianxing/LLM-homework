{
 "cells": [
  {
   "cell_type": "markdown",
   "id": "fc5bde60-1899-461d-8083-3ee04ac7c099",
   "metadata": {},
   "source": [
    "# 模型推理 - 使用 QLoRA 微调后的 ChatGLM-6B"
   ]
  },
  {
   "cell_type": "code",
   "execution_count": 1,
   "id": "cf82356b-d34f-419c-8964-f570afb666f6",
   "metadata": {},
   "outputs": [
    {
     "name": "stdout",
     "output_type": "stream",
     "text": [
      "1\n"
     ]
    }
   ],
   "source": [
    "import os\n",
    "os.environ[\"CUDA_DEVICE_ORDER\"]=\"PCI_BUS_ID\"   # see issue #152\n",
    "os.environ[\"CUDA_VISIBLE_DEVICES\"]=\"2\"\n",
    "\n",
    "import torch\n",
    "print(torch.cuda.device_count())"
   ]
  },
  {
   "cell_type": "code",
   "execution_count": 2,
   "id": "3292b88c-91f0-48d2-91a5-06b0830c7e70",
   "metadata": {},
   "outputs": [
    {
     "name": "stderr",
     "output_type": "stream",
     "text": [
      "/usr/local/lib/python3.9/dist-packages/tqdm/auto.py:21: TqdmWarning: IProgress not found. Please update jupyter and ipywidgets. See https://ipywidgets.readthedocs.io/en/stable/user_install.html\n",
      "  from .autonotebook import tqdm as notebook_tqdm\n"
     ]
    }
   ],
   "source": [
    "import torch\n",
    "from transformers import AutoModel, AutoTokenizer, BitsAndBytesConfig\n",
    "\n",
    "# 模型ID或本地路径\n",
    "model_name_or_path = 'THUDM/chatglm3-6b'"
   ]
  },
  {
   "cell_type": "code",
   "execution_count": 3,
   "id": "9f81454c-24b2-4072-ab05-b25f9b120ae6",
   "metadata": {},
   "outputs": [
    {
     "name": "stderr",
     "output_type": "stream",
     "text": [
      "Loading checkpoint shards: 100%|██████████| 7/7 [00:04<00:00,  1.65it/s]\n"
     ]
    }
   ],
   "source": [
    "_compute_dtype_map = {\n",
    "    'fp32': torch.float32,\n",
    "    'fp16': torch.float16,\n",
    "    'bf16': torch.bfloat16\n",
    "}\n",
    "\n",
    "# QLoRA 量化配置\n",
    "q_config = BitsAndBytesConfig(load_in_4bit=True,\n",
    "                              bnb_4bit_quant_type='nf4',\n",
    "                              bnb_4bit_use_double_quant=True,\n",
    "                              bnb_4bit_compute_dtype=_compute_dtype_map['bf16'])\n",
    "# 加载量化后模型\n",
    "base_model = AutoModel.from_pretrained(model_name_or_path,\n",
    "                                  quantization_config=q_config,\n",
    "                                  device_map='auto',\n",
    "                                  trust_remote_code=True)"
   ]
  },
  {
   "cell_type": "code",
   "execution_count": 4,
   "id": "d488846f-41bb-4fe6-9f09-0f392f3b39e6",
   "metadata": {},
   "outputs": [
    {
     "data": {
      "text/plain": [
       "ChatGLMForConditionalGeneration(\n",
       "  (transformer): ChatGLMModel(\n",
       "    (embedding): Embedding(\n",
       "      (word_embeddings): Embedding(65024, 4096)\n",
       "    )\n",
       "    (rotary_pos_emb): RotaryEmbedding()\n",
       "    (encoder): GLMTransformer(\n",
       "      (layers): ModuleList(\n",
       "        (0-27): 28 x GLMBlock(\n",
       "          (input_layernorm): RMSNorm()\n",
       "          (self_attention): SelfAttention(\n",
       "            (query_key_value): Linear4bit(in_features=4096, out_features=4608, bias=True)\n",
       "            (core_attention): CoreAttention(\n",
       "              (attention_dropout): Dropout(p=0.0, inplace=False)\n",
       "            )\n",
       "            (dense): Linear4bit(in_features=4096, out_features=4096, bias=False)\n",
       "          )\n",
       "          (post_attention_layernorm): RMSNorm()\n",
       "          (mlp): MLP(\n",
       "            (dense_h_to_4h): Linear4bit(in_features=4096, out_features=27392, bias=False)\n",
       "            (dense_4h_to_h): Linear4bit(in_features=13696, out_features=4096, bias=False)\n",
       "          )\n",
       "        )\n",
       "      )\n",
       "      (final_layernorm): RMSNorm()\n",
       "    )\n",
       "    (output_layer): Linear(in_features=4096, out_features=65024, bias=False)\n",
       "  )\n",
       ")"
      ]
     },
     "execution_count": 4,
     "metadata": {},
     "output_type": "execute_result"
    }
   ],
   "source": [
    "base_model.requires_grad_(False)\n",
    "base_model.eval()"
   ]
  },
  {
   "cell_type": "code",
   "execution_count": 5,
   "id": "7e4270e2-c827-450e-bf27-7cb43a97f8f7",
   "metadata": {},
   "outputs": [],
   "source": [
    "tokenizer = AutoTokenizer.from_pretrained(model_name_or_path, trust_remote_code=True)"
   ]
  },
  {
   "cell_type": "markdown",
   "id": "63408b60-876e-4eda-b501-90f842cca002",
   "metadata": {},
   "source": [
    "## 使用微调前 ChatGLM3"
   ]
  },
  {
   "cell_type": "code",
   "execution_count": 6,
   "id": "6ef405cf-7d77-41a6-a07b-c6c768ee30cf",
   "metadata": {},
   "outputs": [],
   "source": [
    "input_text = \"解释下乾卦是什么？\""
   ]
  },
  {
   "cell_type": "code",
   "execution_count": 7,
   "id": "566ed80e-828b-4105-b6e6-49de8905c991",
   "metadata": {},
   "outputs": [],
   "source": [
    "response, history = base_model.chat(tokenizer, query=input_text)"
   ]
  },
  {
   "cell_type": "code",
   "execution_count": 8,
   "id": "6cee217e-f276-4c2f-94e7-69afb6d541a6",
   "metadata": {},
   "outputs": [
    {
     "name": "stdout",
     "output_type": "stream",
     "text": [
      "乾卦是八卦之一，代表阳、强、刚、动、进取、创造等含义。乾卦是由两个阴爻夹一个阳爻构成，象征着天、云、雷等自然现象，以及君主、领导、父亲等权力和威严。乾卦的卦象是象征天空中的雷声，意味着力量和威严，也象征着积极向上、勇往直前的精神。在道家思想中，乾卦与坤卦相对，代表了宇宙中阴阳两极的作用和协调。在儒家思想中，乾卦象征着君子的品德，如忠诚、敬慎、刚毅等。在易经中，乾卦的卦辞：“天行健，君子以自强不息；地势坤，君子以厚德载物。”意味着君子应该效仿天的行健，不断自强，效仿地的坤德，厚植德行，以达到人生境界的提升。\n"
     ]
    }
   ],
   "source": [
    "print(response)"
   ]
  },
  {
   "cell_type": "code",
   "execution_count": null,
   "id": "80f78f9f-5274-44c4-b11c-daab62b15a8b",
   "metadata": {},
   "outputs": [],
   "source": []
  },
  {
   "cell_type": "code",
   "execution_count": 9,
   "id": "bbe1395f-39c2-4759-ae81-90ef3bcfae47",
   "metadata": {},
   "outputs": [
    {
     "name": "stdout",
     "output_type": "stream",
     "text": [
      "地水师卦是八卦之一，由两个阴爻夹一个阳爻构成，象征着地、水、云等自然现象，以及军队、众、众志成城等含义。地水师卦象征着众志成城、团结合作的力量，同时也象征着柔顺、谦卑、低调的品质。在易经中，师卦的卦辞：“天行健，君子以自强不息；地势坤，君子以厚德载物。”意味着君子应该效仿天的行健，不断自强，效仿地的坤德，厚植德行，以达到人生境界的提升。在战争中，地水师卦象征着军队团结合作、众志成城的力量，能够带来胜利。\n"
     ]
    }
   ],
   "source": [
    "response, history = base_model.chat(tokenizer, query=\"地水师卦是什么？\", history=history)\n",
    "print(response)"
   ]
  },
  {
   "cell_type": "code",
   "execution_count": null,
   "id": "342b3659-d644-4232-8af1-f092e733bf40",
   "metadata": {},
   "outputs": [],
   "source": []
  },
  {
   "cell_type": "markdown",
   "id": "6d23e720-dee1-4b43-a298-0cbe1d8ad11d",
   "metadata": {},
   "source": [
    "## 微调前后效果对比\n",
    "\n",
    "#### 加载 QLoRA Adapter(Epoch=50, Overfit, handmade-dataset)"
   ]
  },
  {
   "cell_type": "code",
   "execution_count": 10,
   "id": "72e6cc4f-c030-4107-b07a-6ef44f66a4b0",
   "metadata": {},
   "outputs": [],
   "source": [
    "from peft import PeftModel, PeftConfig\n",
    "\n",
    "epochs = 50\n",
    "timestamp = \"20240129_073900\"\n",
    "peft_model_path = f\"models/{model_name_or_path}-epoch{epochs}-{timestamp}\"\n",
    "\n",
    "config = PeftConfig.from_pretrained(peft_model_path)\n",
    "model = PeftModel.from_pretrained(base_model, peft_model_path)"
   ]
  },
  {
   "cell_type": "markdown",
   "id": "9fbf40b4-3109-4668-93dc-1203058c17af",
   "metadata": {},
   "source": [
    "### 使用微调后的 ChatGLM3-6B"
   ]
  },
  {
   "cell_type": "code",
   "execution_count": 11,
   "id": "df0a8067-3433-4c72-b285-134c466e55ac",
   "metadata": {},
   "outputs": [],
   "source": [
    "def compare_chatglm_results(query):\n",
    "    base_response, base_history = base_model.chat(tokenizer, query)\n",
    "\n",
    "    inputs = tokenizer(query, return_tensors=\"pt\").to(0)\n",
    "    ft_out = model.generate(**inputs, max_new_tokens=512)\n",
    "    ft_response = tokenizer.decode(ft_out[0], skip_special_tokens=True)\n",
    "    \n",
    "    print(f\"问题：{query}\\n\\n原始输出：\\n{base_response}\\n\\n\\nChatGLM3-6B微调后：\\n{ft_response}\")\n",
    "    return base_response, ft_response"
   ]
  },
  {
   "cell_type": "code",
   "execution_count": 12,
   "id": "8d63b187-37be-4721-8959-098d0437c41d",
   "metadata": {},
   "outputs": [
    {
     "name": "stdout",
     "output_type": "stream",
     "text": [
      "问题：解释下乾卦是什么？\n",
      "\n",
      "原始输出：\n",
      "乾卦是周易六十四卦中的第一卦，象征着天。由六个阳爻构成，具有刚强、键健的特性，预示着大吉大利，有利于事情的发展。此卦教导人们要自强不息，遵循天道的德行。在具体应用中，乾卦提醒人们要行正道，保持心境平和，避免骄傲自满，才能充分发挥才智，成就大的事业。同时，也要注意盛极必衰，提高警惕，小心谨慎。总的来说，乾卦是一种鼓励人们积极进取，不断自我提升的卦象。\n",
      "\n",
      "\n",
      "ChatGLM3-6B微调后：\n",
      "[gMASK]sop 解释下乾卦是什么？ 乾卦是周易六十四卦中的第一卦，象征着天。由六个阳爻构成，具有刚强、键健的特性，预示着大吉大利，有利于事情的发展。此卦教导人们要自强不息，遵循天道的德行。在具体应用中，乾卦提醒人们要行正道，保持心境平和，避免骄傲自满，才能充分发挥才智，成就大的事业。同时，也要注意盛极必衰，提高警惕，小心谨慎。总的来说，乾卦是一种鼓励人们积极进取，不断自我提升的卦象。\n"
     ]
    }
   ],
   "source": [
    "base_response, ft_response = compare_chatglm_results(query=\"解释下乾卦是什么？\")"
   ]
  },
  {
   "cell_type": "code",
   "execution_count": 13,
   "id": "be5da80e-d1de-467f-a3bb-508d5a77a46d",
   "metadata": {},
   "outputs": [
    {
     "name": "stdout",
     "output_type": "stream",
     "text": [
      "问题：地水师卦\n",
      "\n",
      "原始输出：\n",
      "地水师卦是周易中的一个卦象，由下卦地（象征着大地）和上卦水（象征着流动的水）组成。这一卦象象征着时间和空间的流转，以及人类与自然的关系。在中医哲学中，地水师卦被认为是一种良好的卦象，象征着健康、繁荣和顺利。此卦大象象征着智慧和判断力，提醒人们要善于学习和成长。此外，地水还象征着生活和政治的变革，提醒人们要善于适应和处理复杂的情况。总的来说，地水师卦是一种积极的卦象，鼓励人们不断学习和进步，适应生活的变化。\n",
      "\n",
      "\n",
      "ChatGLM3-6B微调后：\n",
      "[gMASK]sop 地水师卦位 地水师卦位是一种卦象，由两个异卦相叠而成：下卦为坤，上卦为坎。这一卦的核心概念是'地'和'水'，象征着地球上的土壤和水分。它象征着顺从和遵循自然规律，因为地水一起流动，形成一种和谐统一的景象。这种卦象在哲学上提醒我们，我们应该尊重自然，而不是试图逆行。此外，地水师卦也提醒我们，在生活和工作中，我们应该适应环境，而不是强行改变它。总的来说，地水师卦是一种提醒我们尊重自然、顺应自然的卦象。它告诉我们，只有这样，我们才能真正实现个人的成长和事业的成功。\n"
     ]
    }
   ],
   "source": [
    "base_response, ft_response = compare_chatglm_results(query=\"地水师卦\")"
   ]
  },
  {
   "cell_type": "code",
   "execution_count": 14,
   "id": "04f0eb9a-5075-4588-914a-2538bea801aa",
   "metadata": {},
   "outputs": [
    {
     "name": "stdout",
     "output_type": "stream",
     "text": [
      "问题：天水讼卦\n",
      "\n",
      "原始输出：\n",
      "天水讼卦是周易中的一个卦象，由乾卦和坎卦构成。这一卦象象征着争端和诉讼，提示人们在处理问题和决策时要慎重又慎重，避免纠纷和冲突。同时，它也提醒我们要保持谦逊和宽容，避免过分强调自身利益，以求和谐共处。《象辞》中提到'君子以做事谋始，'这意味着我们在处理事务时应该有长远的眼光和计划，而不是只看到眼前的利益。此外，此卦还告诫我们，虽然有时候可能会遇到困难和挫折，但只要我们坚持不懈，最终还是会有收获的。总的来说，天水讼卦给我们的启示是，在面对问题和挑战时，我们应该保持冷静和理智，避免争斗和冲突，以求达到最好的结果。\n",
      "\n",
      "\n",
      "ChatGLM3-6B微调后：\n",
      "[gMASK]sop 天水讼卦卦象解析 讼卦是周易中的一个异卦相叠的卦象，由乾卦（天）和坎卦（水）构成。这一卦象象征着争端和诉讼，提示人们在处理问题和决策时要慎重又慎重，避免纠纷和冲突。同时，它也提醒我们要保持谦逊和宽容，避免过分强调自身利益，以求和谐共处。《象辞》中提到'君子以做事谋始，'这意味着我们在处理事务时应该有长远的眼光和计划，而不是只看到眼前的利益。此外，此卦还告诫我们，虽然有时候可能会遇到困难和挫折，但只要我们坚持不懈，最终还是会有收获的。总的来说，讼卦给我们的启示是，在面对问题和挑战时，我们应该保持冷静和理智，避免争斗和冲突，以求达到最好的结果。\n"
     ]
    }
   ],
   "source": [
    "base_response, ft_response = compare_chatglm_results(query=\"天水讼卦\")\n"
   ]
  },
  {
   "cell_type": "markdown",
   "id": "6bcfc5a2-41ed-405c-a31c-dca4fbb67425",
   "metadata": {},
   "source": [
    "#### 加载 QLoRA Adapter(Epoch=3, automade-dataset(fixed))"
   ]
  },
  {
   "cell_type": "code",
   "execution_count": 15,
   "id": "9c767c67-42aa-459c-a096-e226226c359b",
   "metadata": {},
   "outputs": [],
   "source": [
    "from peft import PeftModel, PeftConfig\n",
    "\n",
    "epochs = 3\n",
    "timestamp = \"20240129_054318\"\n",
    "peft_model_path = f\"models/{model_name_or_path}-epoch{epochs}-{timestamp}\"\n",
    "\n",
    "config = PeftConfig.from_pretrained(peft_model_path)\n",
    "model = PeftModel.from_pretrained(base_model, peft_model_path)"
   ]
  },
  {
   "cell_type": "code",
   "execution_count": 16,
   "id": "24a5d22b-2c94-4dcf-8135-18d78f98755f",
   "metadata": {},
   "outputs": [],
   "source": [
    "def compare_chatglm_results(query):\n",
    "    base_response, base_history = base_model.chat(tokenizer, query)\n",
    "\n",
    "    inputs = tokenizer(query, return_tensors=\"pt\").to(0)\n",
    "    ft_out = model.generate(**inputs, max_new_tokens=512)\n",
    "    ft_response = tokenizer.decode(ft_out[0], skip_special_tokens=True)\n",
    "    \n",
    "    print(f\"问题：{query}\\n\\n原始输出：\\n{base_response}\\n\\n\\nChatGLM3-6B(Epoch=3, automade-dataset(fixed))微调后：\\n{ft_response}\")\n",
    "    return base_response, ft_response"
   ]
  },
  {
   "cell_type": "code",
   "execution_count": 17,
   "id": "7db16cd5-0bb5-44ab-b861-d9ca6a4970c2",
   "metadata": {},
   "outputs": [
    {
     "name": "stdout",
     "output_type": "stream",
     "text": [
      "问题：解释下乾卦是什么？\n",
      "\n",
      "原始输出：\n",
      "乾卦是周易六十四卦中的第一卦，象征着天。由六个阳爻构成，具有刚强、键健的特性，预示着大吉大利，有利于事情的发展。此卦教导人们要自强不息，遵循天道的德行。在具体应用中，乾卦提醒人们要行正道，保持心境平和，避免骄傲自满，才能充分发挥才智，成就大的事业。同时，也要注意盛极必衰，提高警惕，小心谨慎。总的来说，乾卦是一种鼓励人们积极进取，不断自我提升的卦象。\n",
      "\n",
      "\n",
      "ChatGLM3-6B(Epoch=3, automade-dataset(fixed))微调后：\n",
      "[gMASK]sop 解释下乾卦是什么？ 乾卦是周易六十四卦中的第一卦，象征着天。由六个阳爻构成，具有刚强、键健的特性，预示着大吉大利，有利于事情的发展。此卦教导人们要自强不息，遵循天道的德行。在具体应用中，乾卦提醒人们要行正道，保持心境平和，避免骄傲自满，才能充分发挥才智，成就大的事业。同时，也要注意盛极必衰，提高警惕，小心谨慎。总的来说，乾卦是一种鼓励人们积极进取，不断自我提升的卦象。\n"
     ]
    }
   ],
   "source": [
    "base_response, ft_response = compare_chatglm_results(query=\"解释下乾卦是什么？\")"
   ]
  },
  {
   "cell_type": "code",
   "execution_count": 18,
   "id": "d5a31554-40f1-4e6e-8240-f207c4a61b42",
   "metadata": {},
   "outputs": [
    {
     "name": "stdout",
     "output_type": "stream",
     "text": [
      "问题：地水师卦是什么？\n",
      "\n",
      "原始输出：\n",
      "地震卦是周易中的一个异卦相叠的卦象，由乾卦（天）和坎卦（水）构成。这一卦象象征着地震，意味着天地之间的巨大力量。地震卦提醒人们在面对自然力量时，要保持警惕和谨慎。君子应该学习天地的精神，积极应对挑战，而不是过分 Trust in human intelligence。在决策时，要考虑长远和根本的利益，而不是短视和眼前的好处。地震卦 also告诫人们要珍惜生命，保护自然，实现和谐共处。\n",
      "\n",
      "\n",
      "ChatGLM3-6B(Epoch=3, automade-dataset(fixed))微调后：\n",
      "[gMASK]sop 地水师卦是什么？ 师卦是周易中的一个重要卦象，由两个异卦相叠而成：下卦为坎（水），上卦为坤（地）。这一卦象象征着“师”，即军队，寓意着兵力和农力的结合。在战争策略上，坎卦象征着水和兵力的流动，而坤卦象征着地和兵力的聚集。师卦的核心哲学是：虽然兵力不同，但通过合理的结合和运用，可以使双方实力相当。在和平时期，它象征着智慧和知识，而在生活中，它则鼓励我们学会宽容和团结。此外，在军事策略中，坎卦的流动特性使得兵力可以迅速调动，而坤卦的稳定性则使得兵力可以得到有效指挥。因此，师卦是一种具有深刻哲学意义的卦象，既适用于战争，也适用于其他领域。\n"
     ]
    }
   ],
   "source": [
    "base_response, ft_response = compare_chatglm_results(query=\"地水师卦是什么？\")"
   ]
  },
  {
   "cell_type": "code",
   "execution_count": 19,
   "id": "7aa074bd-c819-4533-a10f-f3184dc9549a",
   "metadata": {},
   "outputs": [
    {
     "name": "stdout",
     "output_type": "stream",
     "text": [
      "问题：周易中的讼卦是什么\n",
      "\n",
      "原始输出：\n",
      "讼卦是周易中的一个异卦相叠的卦象，由乾卦（天）和坎卦（水）构成。这一卦象象征着争端和诉讼，提示人们在处理问题和决策时要慎重又慎重，避免纠纷和冲突。同时，它也提醒我们要保持谦逊和宽容，避免过分强调自身利益，以求和谐共处。《象辞》中提到'君子以做事谋始，'这意味着我们在处理事务时应该有长远的眼光和计划，而不是只看到眼前的利益。此外，此卦还告诫我们，虽然有时候可能会遇到困难和挫折，但只要我们坚持不懈，最终还是会有收获的。总的来说，讼卦给我们的启示是，在面对问题和挑战时，我们应该保持冷静和理智，避免争斗和冲突，以求达到最好的结果。\n",
      "\n",
      "\n",
      "ChatGLM3-6B(Epoch=3, automade-dataset(fixed))微调后：\n",
      "[gMASK]sop 周易中的讼卦是什么? 讼卦是周易中的一个异卦相叠的卦象，由乾卦（天）和坎卦（水）构成。这一卦象象征着争端和诉讼，提示人们在处理问题和决策时要慎重又慎重，避免纠纷和冲突。同时，它也提醒我们要保持谦逊和宽容，避免过分强调自身利益，以求和谐共处。《象辞》中提到'君子以做事谋始，'这意味着我们在处理事务时应该有长远的眼光和计划，而不是只看到眼前的利益。此外，此卦还告诫我们，虽然有时候可能会遇到困难和挫折，但只要我们坚持不懈，最终还是会有收获的。总的来说，讼卦给我们的启示是，在面对问题和挑战时，我们应该保持冷静和理智，避免争斗和冲突，以求达到最好的结果。\n"
     ]
    }
   ],
   "source": [
    "base_response, ft_response = compare_chatglm_results(query=\"周易中的讼卦是什么\")"
   ]
  },
  {
   "cell_type": "code",
   "execution_count": null,
   "id": "abae8a8e-00bb-4801-931a-c942206f0e2a",
   "metadata": {},
   "outputs": [],
   "source": []
  },
  {
   "cell_type": "code",
   "execution_count": null,
   "id": "bb7f5df6-5805-4798-bf7b-583fccefe3b8",
   "metadata": {},
   "outputs": [],
   "source": []
  }
 ],
 "metadata": {
  "kernelspec": {
   "display_name": "Python 3 (ipykernel)",
   "language": "python",
   "name": "python3"
  },
  "language_info": {
   "codemirror_mode": {
    "name": "ipython",
    "version": 3
   },
   "file_extension": ".py",
   "mimetype": "text/x-python",
   "name": "python",
   "nbconvert_exporter": "python",
   "pygments_lexer": "ipython3",
   "version": "3.9.18"
  }
 },
 "nbformat": 4,
 "nbformat_minor": 5
}
